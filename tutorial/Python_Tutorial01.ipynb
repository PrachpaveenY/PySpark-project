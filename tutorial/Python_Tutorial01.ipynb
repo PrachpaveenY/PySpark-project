{
 "cells": [
  {
   "cell_type": "code",
   "execution_count": 1,
   "metadata": {},
   "outputs": [
    {
     "name": "stdout",
     "output_type": "stream",
     "text": [
      "3\n"
     ]
    }
   ],
   "source": [
    "a = 1\n",
    "b = 2\n",
    "c = a + b\n",
    "print(c)"
   ]
  },
  {
   "cell_type": "code",
   "execution_count": 6,
   "metadata": {},
   "outputs": [
    {
     "name": "stdout",
     "output_type": "stream",
     "text": [
      "101 is a prime number\n",
      "103 is a prime number\n",
      "107 is a prime number\n",
      "109 is a prime number\n",
      "113 is a prime number\n",
      "127 is a prime number\n",
      "131 is a prime number\n",
      "137 is a prime number\n",
      "139 is a prime number\n",
      "149 is a prime number\n",
      "151 is a prime number\n",
      "157 is a prime number\n",
      "163 is a prime number\n",
      "167 is a prime number\n",
      "173 is a prime number\n",
      "179 is a prime number\n",
      "181 is a prime number\n",
      "191 is a prime number\n",
      "193 is a prime number\n",
      "197 is a prime number\n",
      "199 is a prime number\n"
     ]
    }
   ],
   "source": [
    "start_number = 100\n",
    "end_number = 200\n",
    "\n",
    "for number in range(start_number, end_number + 1):\n",
    "\n",
    "    is_prime = True\n",
    "    for factor in range(2, number):\n",
    "        if number % factor == 0:\n",
    "            is_prime = False\n",
    "            break\n",
    "\n",
    "    if is_prime:\n",
    "        print(number, \"is a prime number\")"
   ]
  },
  {
   "cell_type": "markdown",
   "metadata": {},
   "source": [
    "### print() ใช้สำหรับแสดงผลลัพธ์บนหน้าจอ ไวยากรณ์ของคำสั่ง print()\n",
    "print(\"Hello World\")\n",
    "print(\"Hello, world!\")\n",
    "\n",
    "### input() ใช้สำหรับรับข้อมูลจากผู้ใช้\n",
    "name = input(\"ชื่อของคุณคืออะไร: \")\n",
    "print(\"สวัสดี\", name)\n",
    "\n",
    "### type() ใช้สำหรับตรวจสอบชนิดข้อมูลของตัวแปร\n",
    "name = \"Bard\"\n",
    "TypeName = type(name)\n",
    "print(TypeName)\n",
    "\n",
    "\n",
    "\n",
    "\n",
    "\n",
    "\n",
    "\n",
    "\n",
    "### ภาษา Python มีตัวเลขอยู่ 2 ชนิด คือ\n",
    "    #  ตัวเลขจำนวนเต็ม (Integer)    เช่น 1, 2, 3, 4, 5, 6, 7, 8, 9, 0\n",
    "    #  ตัวเลขทศนิยม (Float)        เช่น 1.0, 2.5, 3.14, 4.2, 5.3, 6.4, 7.5, 8.6, 9.7\n",
    "\n",
    "\n",
    "\n",
    "\n",
    "\n",
    "\n",
    "\n",
    "\n",
    "### ภาษา Python มีคำสั่งคณิตศาสตร์พื้นฐานอยู่หลายคำสั่ง ดังนี้\n",
    "    # การบวก (+)\n",
    "    # การลบ (-)\n",
    "    # การคูณ (*)\n",
    "    # การหาร (/)\n",
    "    # การยกกำลัง (**)\n",
    "    # การหารแบบเศษส่วน (//)\n",
    "    # การเหลือจากการหาร (%)\n",
    "# a = 1\n",
    "# b = 2\n",
    "# c = a + b       # d = a - b       # e = a * b         # f = a / b         # g = a ** b           # h = a // b         # i = a % b\n",
    "# print(c)        # print(d)        # print(e)          # print(f)          # print(g)             # print(h)           # print(i)\n",
    "# 3               # -1              # 2                 # 0.5               # 1                    # 0                  # 1\n",
    "\n",
    "\n",
    "\n",
    "\n",
    "\n",
    "\n",
    "\n",
    "\n",
    "### ภาษา Python มีคำสั่งตรรกะพื้นฐานอยู่หลายคำสั่ง ดังนี้\n",
    "    # เท่ากับ (==)\n",
    "    # ไม่เท่ากับ (!=)\n",
    "    # มากกว่า (>)\n",
    "    # น้อยกว่า (<)\n",
    "    # มากกว่าหรือเท่ากับ (>=)\n",
    "    # น้อยกว่าหรือเท่ากับ (<=)\n",
    "# a = 1\n",
    "# b = 2\n",
    "# c = a == b        # d = a != b        # e = a > b         # f = a < b         # g = a >= b        # h = a <= b\n",
    "# print(c)          # print(d)          # print(e)          # print(f)          # print(g)          # print(h)\n",
    "# False             # True              # False             # True              # False             # True\n",
    "\n",
    "\n",
    "\n",
    "\n",
    "\n",
    "\n",
    "\n",
    "\n",
    "### คำสั่งเงื่อนไขในภาษา Python มี 2 คำสั่งหลัก คือ\n",
    "    # if...else\n",
    "    # elif\n",
    "\n",
    "##  if...else ใช้สำหรับตรวจสอบเงื่อนไขและดำเนินการตามเงื่อนไขที่กำหนด\n",
    "age = 20\n",
    "if age >= 18:\n",
    "  print(\"คุณอายุเกิน 18 ปี\")\n",
    "else:\n",
    "  print(\"คุณอายุไม่ถึง 18 ปี\")\n",
    "# = คุณอายุเกิน 18 ปี\n",
    "\n",
    "## elif เป็นคำสั่งเงื่อนไขเพิ่มเติมที่สามารถใช้ร่วมกับคำสั่ง if...else ได้ คำสั่ง elif ใช้สำหรับตรวจสอบเงื่อนไขเพิ่มเติมในกรณีที่เงื่อนไขในคำสั่ง if ไม่เป็นจริง\n",
    "# if     \n",
    "    #เงื่อนไข1                        # ดำเนินการหากเงื่อนไข1 เป็นจริง\n",
    "# elif\n",
    "    #เงื่อนไข2                        # ดำเนินการหากเงื่อนไข1 เป็นเท็จและเงื่อนไข2 เป็นจริง\n",
    "# else              \n",
    "    #ดำเนินการหากเงื่อนไขเป็นเท็จ        # ดำเนินการหากเงื่อนไข1 และเงื่อนไข2 เป็นเท็จ\n",
    "number = 80\n",
    "if number >= 90:\n",
    "  print(\"คะแนน A\")\n",
    "elif number >= 80:\n",
    "  print(\"คะแนน B\")\n",
    "else:\n",
    "  print(\"คะแนน C\")\n",
    "# = คะแนน B\n",
    "\n",
    "\n",
    "\n",
    "\n",
    "\n",
    "\n",
    "\n",
    "\n",
    "### คำสั่งวนซ้ำในภาษา Python มี 2 คำสั่งหลัก คือ\n",
    "    # for\n",
    "    # while\n",
    "\n",
    "## for ใช้สำหรับวนซ้ำตามลำดับของข้อมูลในลำดับข้อมูล\n",
    "# ตัวเลขจาก 1 ถึง 10 ตัวแปร ตัวเลข จะเก็บค่าตัวเลขในแต่ละรอบของการวนซ้ำ โปรแกรมจะแสดงค่าของตัวแปร ตัวเลข ในแต่ละรอบของการวนซ้ำ\n",
    "# for ตัวแปร in ลำดับข้อมูล:\n",
    "  # ดำเนินการซ้ำๆ\n",
    "# number 1 ถึง 10:\n",
    "#   print(number)\n",
    "\n",
    "## while ใช้สำหรับวนซ้ำจนกว่าเงื่อนไขจะไม่เป็นจริง\n",
    "# while เงื่อนไข:\n",
    "  # ดำเนินการซ้ำๆ\n",
    "#   ตัวเลข = 1\n",
    "# while ตัวเลข <= 10:\n",
    "#   print(ตัวเลข)\n",
    "#   ตัวเลข += 1\n",
    "\n",
    "\n",
    "\n",
    "\n",
    "\n",
    "\n",
    "\n",
    "\n",
    "### คำสั่งฟังก์ชัน ในภาษา Python ใช้สำหรับรวบรวมชุดคำสั่งไว้ด้วยกันเพื่อใช้งานซ้ำๆ\n",
    "# def ชื่อฟังก์ชัน(อาร์กิวเมนต์):\n",
    "   # บล็อกคำสั่งของฟังก์ชัน\n",
    "#   return ค่าส่งคืน\n",
    "def บวกสองจำนวน(จำนวน1, จำนวน2):\n",
    "  \"\"\"\n",
    "  ฟังก์ชันสำหรับบวกสองจำนวน\n",
    "\n",
    "  อาร์กิวเมนต์:\n",
    "    จำนวน1: จำนวนแรก\n",
    "    จำนวน2: จำนวนที่สอง\n",
    "\n",
    "  ค่าส่งคืน:\n",
    "    ผลบวกของจำนวน1 และจำนวน2\n",
    "  \"\"\"\n",
    "\n",
    "  ผลบวก = จำนวน1 + จำนวน2\n",
    "  return ผลบวก\n",
    "\n",
    "ผลบวก = บวกสองจำนวน(10, 20)\n",
    "print(ผลบวก)\n",
    "\n",
    "\n",
    "\n",
    "\n",
    "\n",
    "\n",
    "\n",
    "\n",
    "\n",
    "\n",
    "\n",
    "## คำสั่งการจัดการไฟล์และไดเรกทอรี\n",
    "# ใช้สำหรับจัดการไฟล์และไดเรกทอรีในระบบไฟล์ คำสั่งเหล่านี้สามารถช่วยให้เราสร้าง ลบ แก้ไข ย้าย คัดลอก แสดงรายการ และค้นหาไฟล์และไดเรกทอรีได้อย่างสะดวก\n",
    "# [คำสั่ง]\t                    [รายละเอียด]\t                             [ตัวอย่างการใช้งาน]\n",
    "# os.getcwd()             แสดงที่อยู่ของไดเรกทอรีปัจจุบัน\t                    print(os.getcwd())\n",
    "# os.chdir()\t          เปลี่ยนไดเรกทอรีปัจจุบัน\t                           os.chdir(\"C:\\\\Users\\\\Bard\\\\Desktop\")\n",
    "# os.listdir()\t          แสดงรายการไฟล์และไดเรกทอรีในไดเรกทอรีที่กำหนด\t      print(os.listdir(\"C:\\\\Users\\\\Bard\\\\Desktop\"))\n",
    "# os.path.exists()\t      ตรวจสอบว่าไฟล์หรือไดเรกทอรีมีอยู่หรือไม่\t              print(os.path.exists(\"C:\\\\Users\\\\Bard\\\\Desktop\\\\test.txt\"))\n",
    "# os.path.join()\t      รวมเส้นทางของไดเรกทอรีและไฟล์\t                    print(os.path.join(\"C:\\\\Users\\\\Bard\\\\Desktop\", \"test.txt\"))\n",
    "# os.path.split()\t      แยกเส้นทางของไดเรกทอรีและไฟล์ออกจากกัน\t        print(os.path.split(\"C:\\\\Users\\\\Bard\\\\Desktop\\\\test.txt\"))\n",
    "# os.path.basename()\t  แสดงชื่อไฟล์จากเส้นทาง\t                        print(os.path.basename(\"C:\\\\Users\\\\Bard\\\\Desktop\\\\test.txt\"))\n",
    "# os.path.dirname()\t      แสดงไดเรกทอรีจากเส้นทาง\t                       print(os.path.dirname(\"C:\\\\Users\\\\Bard\\\\Desktop\\\\test.txt\"))\n",
    "# os.path.getsize()\t      แสดงขนาดของไฟล์\t                             print(os.path.getsize(\"C:\\\\Users\\\\Bard\\\\Desktop\\\\test.txt\"))\n",
    "# os.path.isfile()\t      ตรวจสอบว่าไฟล์เป็นไฟล์หรือไม่\t                      print(os.path.isfile(\"C:\\\\Users\\\\Bard\\\\Desktop\\\\test.txt\"))\n",
    "# os.path.isdir()\t      ตรวจสอบว่าไดเรกทอรีเป็นไดเรกทอรีหรือไม่\t           print(os.path.isdir(\"C:\\\\Users\\\\Bard\\\\Desktop\"))\n",
    "# os.path.splitext()\t  แยกนามสกุลไฟล์ออกจากชื่อไฟล์\t                    print(os.path.splitext(\"C:\\\\Users\\\\Bard\\\\Desktop\\\\test.txt\"))\n",
    "# os.rename()\t          เปลี่ยนชื่อไฟล์หรือไดเรกทอรี                         os.rename(\"C:\\\\Users\\\\Bard\\\\Desktop\\\\test.txt\",             \n",
    "                                                                            \"C:\\\\Users\\\\Bard\\\\Desktop\\\\new_test.txt\")\n",
    "# os.remove()\t          ลบไฟล์                                         os.remove(\"C:\\\\Users\\\\Bard\\\\Desktop\\\\new_test.txt\")\n",
    "# os.mkdir()\t          สร้างไดเรกทอรี                                   os.mkdir(\"C:\\\\Users\\\\Bard\\\\Desktop\\\\new_dir\")\n",
    "# os.rmdir()\t          ลบไดเรกทอรี\t                                 os.rmdir(\"C:\\\\Users\\\\Bard\\\\Desktop\\\\new_dir\")\n",
    "# open()\t              เปิดไฟล์\t                                      f = open(\"C:\\\\Users\\\\Bard\\\\Desktop\\\\test.txt\", \"r\")\n",
    "# read()\t              อ่านข้อมูลจากไฟล์\t                               data = f.read()\n",
    "# write()\t              เขียนข้อมูลลงในไฟล์                              f.write(\"Hello, world!\")\n",
    "# close()\t              ปิดไฟล์                                        f.close()"
   ]
  },
  {
   "cell_type": "code",
   "execution_count": 2,
   "metadata": {},
   "outputs": [
    {
     "data": {
      "text/plain": [
       "{'a': 5, 'b': 2, 'c': 3}"
      ]
     },
     "execution_count": 2,
     "metadata": {},
     "output_type": "execute_result"
    }
   ],
   "source": [
    "d = {\"a\": 1, \"b\": 2, \"c\": 3}\n",
    "d[\"a\"] = 5\n",
    "d"
   ]
  },
  {
   "cell_type": "code",
   "execution_count": 3,
   "metadata": {},
   "outputs": [
    {
     "data": {
      "text/plain": [
       "[0, 1, 2, 3, 4]"
      ]
     },
     "execution_count": 3,
     "metadata": {},
     "output_type": "execute_result"
    }
   ],
   "source": [
    "x = [n for n in range(10) if n < 5]\n",
    "x"
   ]
  },
  {
   "cell_type": "code",
   "execution_count": 5,
   "metadata": {},
   "outputs": [
    {
     "data": {
      "text/plain": [
       "[7, 0]"
      ]
     },
     "execution_count": 5,
     "metadata": {},
     "output_type": "execute_result"
    }
   ],
   "source": [
    "xs = [1,5,2,7,0]\n",
    "x = xs[3:]\n",
    "x"
   ]
  },
  {
   "cell_type": "code",
   "execution_count": null,
   "metadata": {},
   "outputs": [],
   "source": [
    "for i = 0; i <= 15; i++{\n",
    "    run()\n",
    "}"
   ]
  },
  {
   "cell_type": "code",
   "execution_count": 8,
   "metadata": {},
   "outputs": [
    {
     "name": "stdout",
     "output_type": "stream",
     "text": [
      "This is line 2 inside the run function.\n",
      "This is line 2 inside the run function.\n",
      "This is line 2 inside the run function.\n",
      "This is line 2 inside the run function.\n",
      "This is line 2 inside the run function.\n",
      "This is line 2 inside the run function.\n",
      "This is line 2 inside the run function.\n",
      "This is line 2 inside the run function.\n",
      "This is line 2 inside the run function.\n",
      "This is line 2 inside the run function.\n",
      "This is line 2 inside the run function.\n",
      "This is line 2 inside the run function.\n",
      "This is line 2 inside the run function.\n",
      "This is line 2 inside the run function.\n",
      "This is line 2 inside the run function.\n"
     ]
    }
   ],
   "source": [
    "def run():\n",
    "  # Your code here\n",
    "  for _ in range(15):\n",
    "    print(\"This is line 2 inside the run function.\")\n",
    "\n",
    "# Define the run function before calling it\n",
    "run()"
   ]
  },
  {
   "cell_type": "code",
   "execution_count": 10,
   "metadata": {},
   "outputs": [
    {
     "data": {
      "text/plain": [
       "[14, 7, 8]"
      ]
     },
     "execution_count": 10,
     "metadata": {},
     "output_type": "execute_result"
    }
   ],
   "source": [
    "m = [13, 1, 5]\n",
    "n = [1, 6, 3, 5, 4]\n",
    "x = [a + b for a, b in zip(m, n)]\n",
    "x"
   ]
  },
  {
   "cell_type": "code",
   "execution_count": 11,
   "metadata": {},
   "outputs": [
    {
     "data": {
      "text/plain": [
       "[-1, -4, -5, 3, 0, -1, 1, -2, -3]"
      ]
     },
     "execution_count": 11,
     "metadata": {},
     "output_type": "execute_result"
    }
   ],
   "source": [
    "xs = [1,5,3]\n",
    "ys = [2,5,6]\n",
    "result = [x-y for x in xs for y in ys]\n",
    "result"
   ]
  },
  {
   "cell_type": "code",
   "execution_count": 12,
   "metadata": {},
   "outputs": [
    {
     "data": {
      "text/plain": [
       "35"
      ]
     },
     "execution_count": 12,
     "metadata": {},
     "output_type": "execute_result"
    }
   ],
   "source": [
    "y = (lambda x: x*10 + 5)(3)\n",
    "y"
   ]
  },
  {
   "cell_type": "code",
   "execution_count": null,
   "metadata": {},
   "outputs": [],
   "source": [
    "try:\n",
    "    foobar()\n",
    "except Exception as e:\n",
    "    do_exception()\n",
    "finally:\n",
    "    do_finally()\n",
    "\n",
    "# โค้ดนี้ถูกต้อง และ do_finally() จะถูกเรียกใช้เสมอ ไม่ว่าจะเกิดข้อผิดพลาดหรือไม่ก็ตาม\n",
    "\n",
    "# บล็อก finally จะถูกเรียกใช้เสมอหลังจากบล็อก try และ except เสร็จสิ้น ไม่ว่าจะเกิดข้อผิดพลาดหรือไม่ก็ตาม บล็อก finally มักใช้เพื่อดำเนินการทำความสะอาด เช่น ปิดไฟล์หรือฐานข้อมูล\n",
    "\n",
    "# ในกรณีนี้ บล็อก try จะพยายามเรียกใช้ฟังก์ชัน foobar() หาก foobar() ทำงานโดยไม่มีข้อผิดพลาด บล็อก try จะเสร็จสิ้น และบล็อก finally จะถูกเรียกใช้\n",
    "# หาก foobar() เกิดข้อผิดพลาด บล็อก except จะถูกเรียกใช้ก่อน จากนั้นบล็อก finally จะถูกเรียกใช้\n",
    "\n",
    "# ดังนั้น ไม่ว่าจะเกิดข้อผิดพลาดหรือไม่ก็ตาม do_finally() จะถูกเรียกใช้เสมอ"
   ]
  },
  {
   "cell_type": "code",
   "execution_count": null,
   "metadata": {},
   "outputs": [],
   "source": [
    "# 3 strings\n",
    "xs = [\"abc\", \"def\", \"ghi\"]\n",
    "# \"abc,def,ghi\"\n",
    "\n",
    "\",\".concat(xs)\n",
    "\n",
    "\n",
    "# ในการรวม 3 strings นี้ให้อยู่ในรูปแบบ \"abc,def,ghi\" สามารถใช้งานคำสั่ง join() ได้ดังนี้\n",
    "# xs = [\"abc\", \"def\", \"ghi\"]\n",
    "# result = \",\".join(xs)\n",
    "# print(result)\n",
    "\n",
    "# คำสั่ง join() จะรับ list ของ strings เป็นอาร์กิวเมนต์ และจะคืนค่า string ที่เกิดจากการรวม strings เหล่านั้นด้วยเครื่องหมายคั่นที่กำหนด โดยในกรณีนี้ เครื่องหมายคั่นคือ ,\n",
    "\n",
    "# ดังนั้น ผลลัพธ์ของโค้ดข้างต้นคือ\n",
    "# abc,def,ghi\n",
    "\n"
   ]
  }
 ],
 "metadata": {
  "kernelspec": {
   "display_name": "Python 3",
   "language": "python",
   "name": "python3"
  },
  "language_info": {
   "codemirror_mode": {
    "name": "ipython",
    "version": 3
   },
   "file_extension": ".py",
   "mimetype": "text/x-python",
   "name": "python",
   "nbconvert_exporter": "python",
   "pygments_lexer": "ipython3",
   "version": "3.10.7"
  }
 },
 "nbformat": 4,
 "nbformat_minor": 2
}
