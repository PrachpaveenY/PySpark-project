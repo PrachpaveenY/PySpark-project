{
 "cells": [
  {
   "cell_type": "markdown",
   "metadata": {},
   "source": [
    "## Azure SQL Database"
   ]
  },
  {
   "cell_type": "code",
   "execution_count": 19,
   "metadata": {},
   "outputs": [],
   "source": [
    "from sqlalchemy import create_engine\n",
    "import pandas as pd\n",
    "import pyspark as ps\n",
    "import getpass"
   ]
  },
  {
   "cell_type": "code",
   "execution_count": 2,
   "metadata": {},
   "outputs": [],
   "source": [
    "import seaborn as sns\n",
    "import matplotlib.pyplot as plt\n",
    "import numpy as np\n",
    "%matplotlib inline\n",
    "%config InlineBackend.figure_format='retina'"
   ]
  },
  {
   "cell_type": "code",
   "execution_count": 15,
   "metadata": {},
   "outputs": [
    {
     "name": "stdout",
     "output_type": "stream",
     "text": [
      "pandas   version: 2.1.3\n"
     ]
    }
   ],
   "source": [
    "print(f'pandas   version: {pd.__version__}')"
   ]
  },
  {
   "cell_type": "markdown",
   "metadata": {},
   "source": [
    "## DB Connection"
   ]
  },
  {
   "cell_type": "code",
   "execution_count": 31,
   "metadata": {},
   "outputs": [],
   "source": [
    "import pyodbc\n",
    "# from sqlalchemy import create_engine\n",
    "# import pandas as pd\n",
    "\n",
    "user = \"\"\n",
    "pwd = \"\"\n",
    "dbname = \"\"\n",
    "host = \".database.windows.net\"\n",
    "port = \n",
    "\n",
    "driver = \"ODBC Driver 17 for SQL Server\"\n",
    "\n",
    "connection_string = f\"Driver={driver};Server={host};Database={dbname};Uid={user};Pwd={pwd};Port={port}\"\n",
    "\n",
    "# engine = create_engine(connection_string)\n",
    "\n",
    "connection = pyodbc.connect(connection_string)"
   ]
  },
  {
   "cell_type": "code",
   "execution_count": null,
   "metadata": {},
   "outputs": [],
   "source": [
    "# Not in use\n",
    "\n",
    "user=getpass.getpass('enter Azure SQL user name')\n",
    "pwd=getpass.getpass('enter Azure SQL password')"
   ]
  },
  {
   "cell_type": "code",
   "execution_count": null,
   "metadata": {},
   "outputs": [],
   "source": [
    "# Not in use\n",
    "\n",
    "driver = 'ODBC Driver 17 for SQL Server'.replace(' ', '+')\n",
    "dbname=''\n",
    "host='.database.windows.net'\n",
    "port=\n",
    "\n",
    "con = create_engine(f'mssql+pyodbc://{user}:{pwd}@{host}/{dbname}?driver={driver}')"
   ]
  },
  {
   "cell_type": "code",
   "execution_count": null,
   "metadata": {},
   "outputs": [],
   "source": [
    "!pip install mssql"
   ]
  },
  {
   "cell_type": "markdown",
   "metadata": {},
   "source": [
    "## All data management commands"
   ]
  },
  {
   "cell_type": "code",
   "execution_count": 20,
   "metadata": {},
   "outputs": [
    {
     "name": "stdout",
     "output_type": "stream",
     "text": [
      "['regions', 'countries', 'locations', 'jobs', 'departments', 'employees', 'dependents']\n"
     ]
    }
   ],
   "source": [
    "# Create a cursor and show all table name\n",
    "\n",
    "cursor = connection.cursor()\n",
    "\n",
    "cursor.execute(\"SELECT name FROM sys.tables\")\n",
    "\n",
    "table_names = [row[0] for row in cursor.fetchall()]\n",
    "\n",
    "print(table_names)"
   ]
  },
  {
   "cell_type": "code",
   "execution_count": 23,
   "metadata": {},
   "outputs": [
    {
     "data": {
      "text/plain": [
       "[(1, 'Europe'), (2, 'Americas'), (3, 'Asia'), (4, 'Middle East and Africa')]"
      ]
     },
     "execution_count": 23,
     "metadata": {},
     "output_type": "execute_result"
    }
   ],
   "source": [
    "cursor.execute(\"select * from regions\")\n",
    "\n",
    "# Fetch the first 5 rows\n",
    "data = cursor.fetchmany(5)\n",
    "\n",
    "data"
   ]
  },
  {
   "cell_type": "code",
   "execution_count": 26,
   "metadata": {},
   "outputs": [
    {
     "name": "stdout",
     "output_type": "stream",
     "text": [
      "   region_id             region_name\n",
      "0          1                  Europe\n",
      "1          2                Americas\n",
      "2          3                    Asia\n",
      "3          4  Middle East and Africa\n"
     ]
    }
   ],
   "source": [
    "import warnings\n",
    "warnings.filterwarnings(\"ignore\", category=UserWarning)\n",
    "\n",
    "df = pd.read_sql(\"select * from regions\", connection)\n",
    "\n",
    "df = df.iloc[:5]\n",
    "\n",
    "print(df)"
   ]
  },
  {
   "cell_type": "code",
   "execution_count": 28,
   "metadata": {},
   "outputs": [
    {
     "name": "stdout",
     "output_type": "stream",
     "text": [
      "   region_id             region_name\n",
      "0          1                  Europe\n",
      "1          2                Americas\n",
      "2          3                    Asia\n",
      "3          4  Middle East and Africa\n"
     ]
    }
   ],
   "source": [
    "df = pd.read_sql(\"select * from regions\", connection)\n",
    "\n",
    "df = df.iloc[:5]\n",
    "\n",
    "print(df)"
   ]
  },
  {
   "cell_type": "code",
   "execution_count": 35,
   "metadata": {},
   "outputs": [
    {
     "name": "stdout",
     "output_type": "stream",
     "text": [
      "   country_id              country_name  region_id\n",
      "0          AR                 Argentina          2\n",
      "1          AU                 Australia          3\n",
      "2          BE                   Belgium          1\n",
      "3          BR                    Brazil          2\n",
      "4          CA                    Canada          2\n",
      "5          CH               Switzerland          1\n",
      "6          CN                     China          3\n",
      "7          DE                   Germany          1\n",
      "8          DK                   Denmark          1\n",
      "9          EG                     Egypt          4\n",
      "10         FR                    France          1\n",
      "11         HK                  HongKong          3\n",
      "12         IL                    Israel          4\n",
      "13         IN                     India          3\n",
      "14         IT                     Italy          1\n",
      "15         JP                     Japan          3\n",
      "16         KW                    Kuwait          4\n",
      "17         MX                    Mexico          2\n",
      "18         NG                   Nigeria          4\n",
      "19         NL               Netherlands          1\n",
      "20         SG                 Singapore          3\n",
      "21         UK            United Kingdom          1\n",
      "22         US  United States of America          2\n",
      "23         ZM                    Zambia          4\n",
      "24         ZW                  Zimbabwe          4\n"
     ]
    }
   ],
   "source": [
    "df = pd.read_sql(\"select * from countries\", connection)\n",
    "\n",
    "# df = df.iloc[:5]\n",
    "\n",
    "print(df)"
   ]
  },
  {
   "cell_type": "code",
   "execution_count": 36,
   "metadata": {},
   "outputs": [
    {
     "name": "stdout",
     "output_type": "stream",
     "text": [
      "    job_id                        job_title  min_salary  max_salary\n",
      "0        1                Public Accountant      4200.0      9000.0\n",
      "1        2               Accounting Manager      8200.0     16000.0\n",
      "2        3         Administration Assistant      3000.0      6000.0\n",
      "3        4                        President     20000.0     40000.0\n",
      "4        5    Administration Vice President     15000.0     30000.0\n",
      "5        6                       Accountant      4200.0      9000.0\n",
      "6        7                  Finance Manager      8200.0     16000.0\n",
      "7        8   Human Resources Representative      4000.0      9000.0\n",
      "8        9                       Programmer      4000.0     10000.0\n",
      "9       10                Marketing Manager      9000.0     15000.0\n",
      "10      11         Marketing Representative      4000.0      9000.0\n",
      "11      12  Public Relations Representative      4500.0     10500.0\n",
      "12      13                 Purchasing Clerk      2500.0      5500.0\n",
      "13      14               Purchasing Manager      8000.0     15000.0\n",
      "14      15                    Sales Manager     10000.0     20000.0\n",
      "15      16             Sales Representative      6000.0     12000.0\n",
      "16      17                   Shipping Clerk      2500.0      5500.0\n",
      "17      18                      Stock Clerk      2000.0      5000.0\n",
      "18      19                    Stock Manager      5500.0      8500.0\n"
     ]
    }
   ],
   "source": [
    "df = pd.read_sql(\"select * from jobs\", connection)\n",
    "\n",
    "print(df)"
   ]
  },
  {
   "cell_type": "markdown",
   "metadata": {},
   "source": [
    "## Backup"
   ]
  },
  {
   "cell_type": "code",
   "execution_count": null,
   "metadata": {},
   "outputs": [],
   "source": [
    "con.table_names()"
   ]
  },
  {
   "cell_type": "code",
   "execution_count": null,
   "metadata": {},
   "outputs": [],
   "source": [
    "pd.read_sql(\"select top 5 * from disney_char\", con)"
   ]
  },
  {
   "cell_type": "code",
   "execution_count": null,
   "metadata": {},
   "outputs": [],
   "source": [
    "df=pd.read_sql(\"select top 5 * from disney_char\", con)\n",
    "df"
   ]
  },
  {
   "cell_type": "code",
   "execution_count": null,
   "metadata": {},
   "outputs": [],
   "source": [
    "pd.read_sql(\"select top 5 * from movie_gross\", con)"
   ]
  },
  {
   "cell_type": "code",
   "execution_count": null,
   "metadata": {},
   "outputs": [],
   "source": [
    "df=pd.read_sql(\"\"\"\n",
    "select year(release_date) year, count(*) [movies] \n",
    "    from movie_gross \n",
    "    where year(release_date) > 2010\n",
    "    group by year(release_date)\n",
    "\"\"\", con)\n",
    "df"
   ]
  },
  {
   "cell_type": "code",
   "execution_count": null,
   "metadata": {},
   "outputs": [],
   "source": [
    "sns.lineplot(x=df.year, y=df.movies)"
   ]
  },
  {
   "cell_type": "code",
   "execution_count": null,
   "metadata": {},
   "outputs": [],
   "source": [
    "pd.read_sql(\"select top (?) * from disney_char where year(release_date) > ?\", con, params=[10, 2010])"
   ]
  },
  {
   "cell_type": "code",
   "execution_count": null,
   "metadata": {},
   "outputs": [],
   "source": [
    "def run_sql(sql: str, params=None):\n",
    "    return pd.read_sql(sql, con, params=params)"
   ]
  },
  {
   "cell_type": "code",
   "execution_count": null,
   "metadata": {},
   "outputs": [],
   "source": [
    "run_sql(\"\"\"\n",
    "select top 5 * \n",
    "    from disney_char \n",
    "\"\"\")"
   ]
  },
  {
   "cell_type": "code",
   "execution_count": null,
   "metadata": {},
   "outputs": [],
   "source": [
    "run_sql(\"\"\"\n",
    "select top 5 *\n",
    "    from disney_char \n",
    "    where movie_title = 'Bambi'\n",
    "\"\"\")"
   ]
  },
  {
   "cell_type": "code",
   "execution_count": null,
   "metadata": {},
   "outputs": [],
   "source": [
    "run_sql(\"\"\"\n",
    "select top 5 *\n",
    "    from disney_char \n",
    "    where movie_title = ?\n",
    "\"\"\", ['Bambi'])"
   ]
  },
  {
   "cell_type": "code",
   "execution_count": null,
   "metadata": {},
   "outputs": [],
   "source": [
    "run_sql(\"\"\"\n",
    "select top 5 * \n",
    "    from disney_char \n",
    "    where lower(movie_title) like '%%frog%%'\n",
    "\"\"\")"
   ]
  },
  {
   "cell_type": "code",
   "execution_count": null,
   "metadata": {},
   "outputs": [],
   "source": [
    "run_sql(\"\"\"\n",
    "select * \n",
    "    from disney_char \n",
    "    where lower(movie_title) like ?\n",
    "\"\"\", ['%frog%'])"
   ]
  },
  {
   "cell_type": "code",
   "execution_count": null,
   "metadata": {},
   "outputs": [],
   "source": [
    "run_sql(\"select top 5 * from movie_gross\")"
   ]
  },
  {
   "cell_type": "code",
   "execution_count": null,
   "metadata": {},
   "outputs": [],
   "source": [
    "run_sql(\"\"\"\n",
    "select top (?) * \n",
    "    from movie_gross \n",
    "    order by inflation_adjusted_gross desc\n",
    "\"\"\", [10])"
   ]
  },
  {
   "cell_type": "code",
   "execution_count": null,
   "metadata": {},
   "outputs": [],
   "source": [
    "df=run_sql(\"\"\"\n",
    "select genre, count(*) [# movies] from movie_gross group by genre order by [# movies] desc\n",
    "\"\"\")\n",
    "df"
   ]
  }
 ],
 "metadata": {
  "kernelspec": {
   "display_name": "Python 3",
   "language": "python",
   "name": "python3"
  },
  "language_info": {
   "codemirror_mode": {
    "name": "ipython",
    "version": 3
   },
   "file_extension": ".py",
   "mimetype": "text/x-python",
   "name": "python",
   "nbconvert_exporter": "python",
   "pygments_lexer": "ipython3",
   "version": "3.10.7"
  }
 },
 "nbformat": 4,
 "nbformat_minor": 2
}
