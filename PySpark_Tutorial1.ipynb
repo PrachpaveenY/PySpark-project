{
 "cells": [
  {
   "cell_type": "code",
   "execution_count": null,
   "metadata": {},
   "outputs": [],
   "source": [
    "import pyspark as ps"
   ]
  },
  {
   "cell_type": "code",
   "execution_count": 1,
   "metadata": {},
   "outputs": [],
   "source": [
    "from pyspark import SparkContext\n",
    "sc = SparkContext.getOrCreate()"
   ]
  },
  {
   "cell_type": "code",
   "execution_count": 3,
   "metadata": {},
   "outputs": [],
   "source": [
    "from pyspark.sql import SparkSession\n",
    "\n",
    "if (sc is None):\n",
    "    sc = SparkContext(master=\"local[*]\")\n",
    "spark = SparkSession(sparkContext=sc)\\\n",
    "        .builder\\\n",
    "        .appName(\"PySpark\")\\\n",
    "        .config(\"spark.some.config.option\", \"some-value\") \\\n",
    "        .getOrCreate()"
   ]
  },
  {
   "cell_type": "code",
   "execution_count": null,
   "metadata": {},
   "outputs": [],
   "source": [
    "\n",
    "json_a = spark.read.json(\"customer.json\")\n",
    "json_b = spark.read.load(\"people.json\", format=\"json\")\n",
    "\n",
    "parquet_a = spark.read.load(\"users.parquet\")\n",
    "\n",
    "txt_a = spark.read.text(\"people.txt\")\n",
    "\n",
    "csv_a = spark.read.csv('mtcars.csv', header=True, inferSchema=True)"
   ]
  },
  {
   "cell_type": "code",
   "execution_count": 5,
   "metadata": {},
   "outputs": [],
   "source": [
    "# header=True, inferSchema=True\n",
    "csv_a = spark.read.csv('HR01.csv', header=True, inferSchema=True)\n",
    "\n",
    "#  ข้อมูลจะถูกเก็บไว้ในหน่วยความจำของ Spark ในขณะประมวลผล \n",
    "#  หากต้องการเก็บข้อมูลไว้ถาวร สามารถบันทึกข้อมูลลงดิสก์ได้โดยใช้คำสั่ง csv_a.write.csv(\"path/to/output.csv\") ( ข้อมูลจะถูกบันทึกลงไฟล์ CSV ที่ระบุ ใน path/to/output.csv )"
   ]
  },
  {
   "cell_type": "code",
   "execution_count": 6,
   "metadata": {},
   "outputs": [
    {
     "name": "stdout",
     "output_type": "stream",
     "text": [
      "+-----------+----------+-----------+-----------------+------+-----+----------+----------+--------------------+\n",
      "|Employee ID|      Name| Department|         Position|Salary|Bonus|Start Date|  End Date|  Resignation Reason|\n",
      "+-----------+----------+-----------+-----------------+------+-----+----------+----------+--------------------+\n",
      "|       7780|qiqhdlnhjf|      Sales|    Sales Manager| 95195|44918|2023-01-01|2023-12-31|Taking a break fr...|\n",
      "|       7484|gjfermnzzi|    Finance|       Accountant| 74028|26978|2023-01-01|2023-12-31|Moving to a new city|\n",
      "|       1922|pvaarwbvtu|Engineering|    Sales Manager| 94516| 5975|2023-01-01|2023-12-31|Moving to a new city|\n",
      "|       6859|qsiyfoytqq|    Finance|Marketing Manager| 57882|49312|2023-01-01|2023-12-31|Moving to a new city|\n",
      "|       6211|dsvjwwhzyw|  Marketing|       Accountant| 89673|27118|2023-01-01|2023-12-31|     Found a new job|\n",
      "|       9226|dbcldodcnv|Engineering|    Sales Manager| 97405|15871|2023-01-01|2023-12-31|     Found a new job|\n",
      "|        755|ulmyvioojm|    Finance|Software Engineer| 79951|35278|2023-01-01|2023-12-31|     Found a new job|\n",
      "|       2819|eyhxfsliiz|    Finance|Marketing Manager| 90018|47049|2023-01-01|2023-12-31|     Found a new job|\n",
      "|       8329|vnyrnuzgtd|    Finance|Marketing Manager| 69310|33517|2023-01-01|2023-12-31|Taking a break fr...|\n",
      "|       8567|rzvwjnvraj|    Finance|    Sales Manager| 87425|14494|2023-01-01|2023-12-31|     Found a new job|\n",
      "|       7105|ridlzjwdpe|Engineering|       Accountant| 55608|17035|2023-01-01|2023-12-31|Moving to a new city|\n",
      "|       7829|evgsgmgnil|Engineering|Software Engineer| 65188|29477|2023-01-01|2023-12-31|Moving to a new city|\n",
      "|        482|vgbmdcfglz|  Marketing|    Sales Manager| 97397| 4103|2023-01-01|2023-12-31|     Found a new job|\n",
      "|       9552|qbbptozpnb|Engineering|Marketing Manager| 76681|25480|2023-01-01|2023-12-31|     Found a new job|\n",
      "|       5830|mmxsiycxvv|      Sales|Marketing Manager| 81934| 7997|2023-01-01|2023-12-31|Moving to a new city|\n",
      "|       5178|uhddrsgpex|      Sales|Software Engineer| 97916| 1644|2023-01-01|2023-12-31|     Found a new job|\n",
      "|       5695|obvvfthjax|Engineering|Software Engineer| 86205|18429|2023-01-01|2023-12-31|Moving to a new city|\n",
      "|       9852|cqamtaxqae|    Finance|Software Engineer| 75518|15551|2023-01-01|2023-12-31|Moving to a new city|\n",
      "|       9331|pnjmmqjcow|      Sales|Marketing Manager| 75197|20356|2023-01-01|2023-12-31|     Found a new job|\n",
      "|       1576|hkumvqvynx|    Finance|       Accountant| 50121|41951|2023-01-01|2023-12-31|Moving to a new city|\n",
      "+-----------+----------+-----------+-----------------+------+-----+----------+----------+--------------------+\n",
      "\n"
     ]
    }
   ],
   "source": [
    "csv_a.show()"
   ]
  },
  {
   "cell_type": "code",
   "execution_count": null,
   "metadata": {},
   "outputs": [],
   "source": [
    "csv_a = spark.read.csv('HR01.csv', header=False, inferSchema=False)\n",
    "\n",
    "# กำหนด schema ของ DataFrame ด้วยตัวเอง (กรณีไฟล์ไม่มี header row อยู่ด้านบน)\n",
    "schema = StructType([\n",
    "    StructField(\"Employee ID\", IntegerType(), True),\n",
    "    StructField(\"Name\", StringType(), True),\n",
    "    StructField(\"Department\", StringType(), True),\n",
    "    StructField(\"Position\", StringType(), True),\n",
    "    StructField(\"Salary\", DoubleType(), True),\n",
    "    StructField(\"Bonus\", DoubleType(), True),\n",
    "    StructField(\"Start Date\", DateType(), True),\n",
    "    StructField(\"End Date\", DateType(), True),\n",
    "    StructField(\"Resignation Reason\", StringType(), True),\n",
    "])\n",
    "\n",
    "csv_a.schema = schema"
   ]
  },
  {
   "cell_type": "code",
   "execution_count": null,
   "metadata": {},
   "outputs": [],
   "source": [
    "# เช็ค Data type\n",
    "df.dtypes \n"
   ]
  },
  {
   "cell_type": "code",
   "execution_count": null,
   "metadata": {},
   "outputs": [],
   "source": [
    "# แสดงเนื้อหา\n",
    "df.show() \n",
    "\n",
    "# แสดง n แถวแรก\n",
    "df.head(n)\n",
    "\n",
    "# แสดงแถวแรกเท่านั้น\n",
    "df.first()\n",
    "\n",
    "# แสดง n แถวแรกเท่านั้น โดยแสดงออกมาเป็น list ของแถว\n",
    "df.take(2) \n"
   ]
  },
  {
   "cell_type": "code",
   "execution_count": null,
   "metadata": {},
   "outputs": [],
   "source": [
    "# แสดง schema\n",
    "df.printSchema()"
   ]
  }
 ],
 "metadata": {
  "kernelspec": {
   "display_name": "Python 3",
   "language": "python",
   "name": "python3"
  },
  "language_info": {
   "codemirror_mode": {
    "name": "ipython",
    "version": 3
   },
   "file_extension": ".py",
   "mimetype": "text/x-python",
   "name": "python",
   "nbconvert_exporter": "python",
   "pygments_lexer": "ipython3",
   "version": "3.10.7"
  }
 },
 "nbformat": 4,
 "nbformat_minor": 2
}
