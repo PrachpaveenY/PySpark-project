{
 "cells": [
  {
   "cell_type": "code",
   "execution_count": 11,
   "metadata": {},
   "outputs": [],
   "source": [
    "# txt\n",
    "import random\n",
    "\n",
    "def generate_tweet():\n",
    "  \"\"\"Create HR Row\"\"\"\n",
    "  topic = random.choice([\"job opening\", \"job posting\", \"candidate\", \"performance review\", \"salary negotiation\", \"benefits package\", \"new employee onboarding\", \"company culture\", \"team building exercise\"])\n",
    "  text = \"This is HR about %s\" % topic\n",
    "  return text\n",
    "\n",
    "for i in range(20):\n",
    "  hr = generate_tweet()\n",
    "  with open(\"hr01.txt\", \"a\") as f:\n",
    "    f.write(\"%s\\n\" % hr)"
   ]
  },
  {
   "cell_type": "code",
   "execution_count": 9,
   "metadata": {},
   "outputs": [],
   "source": [
    "# csv\n",
    "import random\n",
    "import datetime\n",
    "import csv\n",
    "\n",
    "def generate_employee_id():\n",
    "    return random.randint(1, 10000)\n",
    "\n",
    "def generate_name():\n",
    "    return \"\".join(random.choice(\"abcdefghijklmnopqrstuvwxyz\") for i in range(10))\n",
    "\n",
    "def generate_department():\n",
    "    return random.choice([\"Sales\", \"Marketing\", \"Engineering\", \"Finance\"])\n",
    "\n",
    "def generate_position():\n",
    "    return random.choice([\"Sales Manager\", \"Marketing Manager\", \"Software Engineer\", \"Accountant\"])\n",
    "\n",
    "def generate_salary():\n",
    "    return random.randint(50000, 100000)\n",
    "\n",
    "def generate_bonus():\n",
    "    return random.randint(0, 50000)\n",
    "\n",
    "def generate_start_date():\n",
    "    return datetime.date(2023, 1, 1)\n",
    "\n",
    "def generate_end_date():\n",
    "    return datetime.date(2023, 12, 31)\n",
    "\n",
    "def generate_resignation_reason():\n",
    "    return random.choice([\"Found a new job\", \"Moving to a new city\", \"Taking a break from work\"])\n",
    "\n",
    "# CSV\n",
    "with open(\"HR01.csv\", \"w\") as csvfile:\n",
    "    writer = csv.writer(csvfile)\n",
    "    writer.writerow([\"Employee ID\", \"Name\", \"Department\", \"Position\", \"Salary\", \"Bonus\", \"Start Date\", \"End Date\", \"Resignation Reason\"])\n",
    "\n",
    "    # Generate and save\n",
    "    for i in range(20):\n",
    "        employee_id = generate_employee_id()\n",
    "        name = generate_name()\n",
    "        department = generate_department()\n",
    "        position = generate_position()\n",
    "        salary = generate_salary()\n",
    "        bonus = generate_bonus()\n",
    "        start_date = generate_start_date()\n",
    "        end_date = generate_end_date()\n",
    "        resignation_reason = generate_resignation_reason()\n",
    "\n",
    "        # Write\n",
    "        writer.writerow([employee_id, name, department, position, salary, bonus, start_date, end_date, resignation_reason])\n",
    "\n",
    "# Close - outside the loop\n",
    "csvfile.close()"
   ]
  }
 ],
 "metadata": {
  "kernelspec": {
   "display_name": "Python 3",
   "language": "python",
   "name": "python3"
  },
  "language_info": {
   "codemirror_mode": {
    "name": "ipython",
    "version": 3
   },
   "file_extension": ".py",
   "mimetype": "text/x-python",
   "name": "python",
   "nbconvert_exporter": "python",
   "pygments_lexer": "ipython3",
   "version": "3.10.7"
  }
 },
 "nbformat": 4,
 "nbformat_minor": 2
}
