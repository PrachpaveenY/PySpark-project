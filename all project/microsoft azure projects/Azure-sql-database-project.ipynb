{
 "cells": [
  {
   "cell_type": "markdown",
   "metadata": {},
   "source": [
    "## Azure SQL Database"
   ]
  },
  {
   "cell_type": "code",
   "execution_count": 19,
   "metadata": {},
   "outputs": [],
   "source": [
    "from sqlalchemy import create_engine\n",
    "import pandas as pd\n",
    "import pyspark as ps\n",
    "import getpass"
   ]
  },
  {
   "cell_type": "code",
   "execution_count": 2,
   "metadata": {},
   "outputs": [],
   "source": [
    "import seaborn as sns\n",
    "import matplotlib.pyplot as plt\n",
    "import numpy as np\n",
    "%matplotlib inline\n",
    "%config InlineBackend.figure_format='retina'"
   ]
  },
  {
   "cell_type": "code",
   "execution_count": 15,
   "metadata": {},
   "outputs": [
    {
     "name": "stdout",
     "output_type": "stream",
     "text": [
      "pandas   version: 2.1.3\n"
     ]
    }
   ],
   "source": [
    "print(f'pandas   version: {pd.__version__}')"
   ]
  },
  {
   "cell_type": "markdown",
   "metadata": {},
   "source": [
    "## DB Connection"
   ]
  },
  {
   "cell_type": "code",
   "execution_count": 31,
   "metadata": {},
   "outputs": [],
   "source": [
    "import pyodbc\n",
    "# from sqlalchemy import create_engine\n",
    "# import pandas as pd\n",
    "\n",
    "user = \"\"\n",
    "pwd = \"\"\n",
    "dbname = \"\"\n",
    "host = \".database.windows.net\"\n",
    "port = \n",
    "\n",
    "driver = \"ODBC Driver 17 for SQL Server\"\n",
    "\n",
    "connection_string = f\"Driver={driver};Server={host};Database={dbname};Uid={user};Pwd={pwd};Port={port}\"\n",
    "\n",
    "# engine = create_engine(connection_string)\n",
    "\n",
    "connection = pyodbc.connect(connection_string)"
   ]
  },
  {
   "cell_type": "code",
   "execution_count": null,
   "metadata": {},
   "outputs": [],
   "source": [
    "# Not in use\n",
    "\n",
    "user=getpass.getpass('enter Azure SQL user name')\n",
    "pwd=getpass.getpass('enter Azure SQL password')"
   ]
  },
  {
   "cell_type": "code",
   "execution_count": null,
   "metadata": {},
   "outputs": [],
   "source": [
    "# Not in use\n",
    "\n",
    "driver = 'ODBC Driver 17 for SQL Server'.replace(' ', '+')\n",
    "dbname=''\n",
    "host='.database.windows.net'\n",
    "port=\n",
    "\n",
    "con = create_engine(f'mssql+pyodbc://{user}:{pwd}@{host}/{dbname}?driver={driver}')"
   ]
  },
  {
   "cell_type": "markdown",
   "metadata": {},
   "source": [
    "## All data management commands"
   ]
  },
  {
   "cell_type": "code",
   "execution_count": 20,
   "metadata": {},
   "outputs": [
    {
     "name": "stdout",
     "output_type": "stream",
     "text": [
      "['regions', 'countries', 'locations', 'jobs', 'departments', 'employees', 'dependents']\n"
     ]
    }
   ],
   "source": [
    "# Create a cursor and show all table name\n",
    "\n",
    "cursor = connection.cursor()\n",
    "\n",
    "cursor.execute(\"SELECT name FROM sys.tables\")\n",
    "\n",
    "table_names = [row[0] for row in cursor.fetchall()]\n",
    "\n",
    "print(table_names)"
   ]
  },
  {
   "cell_type": "code",
   "execution_count": 23,
   "metadata": {},
   "outputs": [
    {
     "data": {
      "text/plain": [
       "[(1, 'Europe'), (2, 'Americas'), (3, 'Asia'), (4, 'Middle East and Africa')]"
      ]
     },
     "execution_count": 23,
     "metadata": {},
     "output_type": "execute_result"
    }
   ],
   "source": [
    "cursor.execute(\"select * from regions\")\n",
    "\n",
    "# Fetch the first 5 rows\n",
    "data = cursor.fetchmany(5)\n",
    "\n",
    "data"
   ]
  },
  {
   "cell_type": "code",
   "execution_count": 26,
   "metadata": {},
   "outputs": [
    {
     "name": "stdout",
     "output_type": "stream",
     "text": [
      "   region_id             region_name\n",
      "0          1                  Europe\n",
      "1          2                Americas\n",
      "2          3                    Asia\n",
      "3          4  Middle East and Africa\n"
     ]
    }
   ],
   "source": [
    "import warnings\n",
    "warnings.filterwarnings(\"ignore\", category=UserWarning)\n",
    "\n",
    "df = pd.read_sql(\"select * from regions\", connection)\n",
    "\n",
    "df = df.iloc[:5]\n",
    "\n",
    "print(df)"
   ]
  },
  {
   "cell_type": "code",
   "execution_count": 28,
   "metadata": {},
   "outputs": [
    {
     "name": "stdout",
     "output_type": "stream",
     "text": [
      "   region_id             region_name\n",
      "0          1                  Europe\n",
      "1          2                Americas\n",
      "2          3                    Asia\n",
      "3          4  Middle East and Africa\n"
     ]
    }
   ],
   "source": [
    "df = pd.read_sql(\"select * from regions\", connection)\n",
    "\n",
    "df = df.iloc[:5]\n",
    "\n",
    "print(df)"
   ]
  },
  {
   "cell_type": "code",
   "execution_count": 35,
   "metadata": {},
   "outputs": [
    {
     "name": "stdout",
     "output_type": "stream",
     "text": [
      "   country_id              country_name  region_id\n",
      "0          AR                 Argentina          2\n",
      "1          AU                 Australia          3\n",
      "2          BE                   Belgium          1\n",
      "3          BR                    Brazil          2\n",
      "4          CA                    Canada          2\n",
      "5          CH               Switzerland          1\n",
      "6          CN                     China          3\n",
      "7          DE                   Germany          1\n",
      "8          DK                   Denmark          1\n",
      "9          EG                     Egypt          4\n",
      "10         FR                    France          1\n",
      "11         HK                  HongKong          3\n",
      "12         IL                    Israel          4\n",
      "13         IN                     India          3\n",
      "14         IT                     Italy          1\n",
      "15         JP                     Japan          3\n",
      "16         KW                    Kuwait          4\n",
      "17         MX                    Mexico          2\n",
      "18         NG                   Nigeria          4\n",
      "19         NL               Netherlands          1\n",
      "20         SG                 Singapore          3\n",
      "21         UK            United Kingdom          1\n",
      "22         US  United States of America          2\n",
      "23         ZM                    Zambia          4\n",
      "24         ZW                  Zimbabwe          4\n"
     ]
    }
   ],
   "source": [
    "df = pd.read_sql(\"select * from countries\", connection)\n",
    "\n",
    "# df = df.iloc[:5]\n",
    "\n",
    "print(df)"
   ]
  },
  {
   "cell_type": "code",
   "execution_count": 36,
   "metadata": {},
   "outputs": [
    {
     "name": "stdout",
     "output_type": "stream",
     "text": [
      "    job_id                        job_title  min_salary  max_salary\n",
      "0        1                Public Accountant      4200.0      9000.0\n",
      "1        2               Accounting Manager      8200.0     16000.0\n",
      "2        3         Administration Assistant      3000.0      6000.0\n",
      "3        4                        President     20000.0     40000.0\n",
      "4        5    Administration Vice President     15000.0     30000.0\n",
      "5        6                       Accountant      4200.0      9000.0\n",
      "6        7                  Finance Manager      8200.0     16000.0\n",
      "7        8   Human Resources Representative      4000.0      9000.0\n",
      "8        9                       Programmer      4000.0     10000.0\n",
      "9       10                Marketing Manager      9000.0     15000.0\n",
      "10      11         Marketing Representative      4000.0      9000.0\n",
      "11      12  Public Relations Representative      4500.0     10500.0\n",
      "12      13                 Purchasing Clerk      2500.0      5500.0\n",
      "13      14               Purchasing Manager      8000.0     15000.0\n",
      "14      15                    Sales Manager     10000.0     20000.0\n",
      "15      16             Sales Representative      6000.0     12000.0\n",
      "16      17                   Shipping Clerk      2500.0      5500.0\n",
      "17      18                      Stock Clerk      2000.0      5000.0\n",
      "18      19                    Stock Manager      5500.0      8500.0\n"
     ]
    }
   ],
   "source": [
    "df = pd.read_sql(\"select * from jobs\", connection)\n",
    "\n",
    "print(df)"
   ]
  },
  {
   "cell_type": "code",
   "execution_count": 41,
   "metadata": {},
   "outputs": [
    {
     "name": "stdout",
     "output_type": "stream",
     "text": [
      "   location_id                            street_address postal_code  \\\n",
      "0         1400                       2014 Jabberwocky Rd       26192   \n",
      "1         1500                       2011 Interiors Blvd       99236   \n",
      "2         1700                           2004 Charade Rd       98199   \n",
      "3         1800                           147 Spadina Ave     M5V 2L7   \n",
      "4         2400                            8204 Arthur St        None   \n",
      "5         2500  Magdalen Centre, The Oxford Science Park     OX9 9ZB   \n",
      "6         2700                     Schwanthalerstr. 7031       80925   \n",
      "\n",
      "                  city state_province country_id  \n",
      "0            Southlake          Texas         US  \n",
      "1  South San Francisco     California         US  \n",
      "2              Seattle     Washington         US  \n",
      "3              Toronto        Ontario         CA  \n",
      "4               London           None         UK  \n",
      "5               Oxford         Oxford         UK  \n",
      "6               Munich        Bavaria         DE  \n"
     ]
    }
   ],
   "source": [
    "df = pd.read_sql(\"select * from locations\", connection)\n",
    "\n",
    "print(df)"
   ]
  },
  {
   "cell_type": "code",
   "execution_count": 40,
   "metadata": {},
   "outputs": [
    {
     "name": "stdout",
     "output_type": "stream",
     "text": [
      "    department_id   department_name  location_id\n",
      "0               1    Administration         1700\n",
      "1               2         Marketing         1800\n",
      "2               3        Purchasing         1700\n",
      "3               4   Human Resources         2400\n",
      "4               5          Shipping         1500\n",
      "5               6                IT         1400\n",
      "6               7  Public Relations         2700\n",
      "7               8             Sales         2500\n",
      "8               9         Executive         1700\n",
      "9              10           Finance         1700\n",
      "10             11        Accounting         1700\n"
     ]
    }
   ],
   "source": [
    "df = pd.read_sql(\"select * from departments\", connection)\n",
    "\n",
    "print(df)"
   ]
  },
  {
   "cell_type": "code",
   "execution_count": 39,
   "metadata": {},
   "outputs": [
    {
     "name": "stdout",
     "output_type": "stream",
     "text": [
      "    employee_id   first_name    last_name                              email  \\\n",
      "0           100       Steven         King        steven.king@sqltutorial.org   \n",
      "1           101        Neena      Kochhar      neena.kochhar@sqltutorial.org   \n",
      "2           102          Lex      De Haan        lex.de haan@sqltutorial.org   \n",
      "3           103    Alexander       Hunold   alexander.hunold@sqltutorial.org   \n",
      "4           104        Bruce        Ernst        bruce.ernst@sqltutorial.org   \n",
      "5           105        David       Austin       david.austin@sqltutorial.org   \n",
      "6           106        Valli    Pataballa    valli.pataballa@sqltutorial.org   \n",
      "7           107        Diana      Lorentz      diana.lorentz@sqltutorial.org   \n",
      "8           108        Nancy    Greenberg    nancy.greenberg@sqltutorial.org   \n",
      "9           109       Daniel       Faviet      daniel.faviet@sqltutorial.org   \n",
      "10          110         John         Chen          john.chen@sqltutorial.org   \n",
      "11          111       Ismael      Sciarra     ismael.sciarra@sqltutorial.org   \n",
      "12          112  Jose Manuel        Urman  jose manuel.urman@sqltutorial.org   \n",
      "13          113         Luis         Popp          luis.popp@sqltutorial.org   \n",
      "14          114          Den     Raphaely       den.raphaely@sqltutorial.org   \n",
      "15          115    Alexander         Khoo     alexander.khoo@sqltutorial.org   \n",
      "16          116       Shelli        Baida       shelli.baida@sqltutorial.org   \n",
      "17          117        Sigal       Tobias       sigal.tobias@sqltutorial.org   \n",
      "18          118          Guy       Himuro         guy.himuro@sqltutorial.org   \n",
      "19          119        Karen   Colmenares   karen.colmenares@sqltutorial.org   \n",
      "20          120      Matthew        Weiss      matthew.weiss@sqltutorial.org   \n",
      "21          121         Adam        Fripp         adam.fripp@sqltutorial.org   \n",
      "22          122        Payam     Kaufling     payam.kaufling@sqltutorial.org   \n",
      "23          123       Shanta      Vollman     shanta.vollman@sqltutorial.org   \n",
      "24          126        Irene  Mikkilineni  irene.mikkilineni@sqltutorial.org   \n",
      "25          145         John      Russell       john.russell@sqltutorial.org   \n",
      "26          146        Karen     Partners     karen.partners@sqltutorial.org   \n",
      "27          176     Jonathon       Taylor    jonathon.taylor@sqltutorial.org   \n",
      "28          177         Jack   Livingston    jack.livingston@sqltutorial.org   \n",
      "29          178    Kimberely        Grant    kimberely.grant@sqltutorial.org   \n",
      "30          179      Charles      Johnson    charles.johnson@sqltutorial.org   \n",
      "31          192        Sarah         Bell         sarah.bell@sqltutorial.org   \n",
      "32          193      Britney      Everett    britney.everett@sqltutorial.org   \n",
      "33          200     Jennifer       Whalen    jennifer.whalen@sqltutorial.org   \n",
      "34          201      Michael    Hartstein  michael.hartstein@sqltutorial.org   \n",
      "35          202          Pat          Fay            pat.fay@sqltutorial.org   \n",
      "36          203        Susan       Mavris       susan.mavris@sqltutorial.org   \n",
      "37          204      Hermann         Baer       hermann.baer@sqltutorial.org   \n",
      "38          205      Shelley      Higgins    shelley.higgins@sqltutorial.org   \n",
      "39          206      William        Gietz      william.gietz@sqltutorial.org   \n",
      "\n",
      "    phone_number   hire_date  job_id   salary  manager_id  department_id  \n",
      "0   515.123.4567  1987-06-17       4  24000.0         NaN              9  \n",
      "1   515.123.4568  1989-09-21       5  17000.0       100.0              9  \n",
      "2   515.123.4569  1993-01-13       5  17000.0       100.0              9  \n",
      "3   590.423.4567  1990-01-03       9   9000.0       102.0              6  \n",
      "4   590.423.4568  1991-05-21       9   6000.0       103.0              6  \n",
      "5   590.423.4569  1997-06-25       9   4800.0       103.0              6  \n",
      "6   590.423.4560  1998-02-05       9   4800.0       103.0              6  \n",
      "7   590.423.5567  1999-02-07       9   4200.0       103.0              6  \n",
      "8   515.124.4569  1994-08-17       7  12000.0       101.0             10  \n",
      "9   515.124.4169  1994-08-16       6   9000.0       108.0             10  \n",
      "10  515.124.4269  1997-09-28       6   8200.0       108.0             10  \n",
      "11  515.124.4369  1997-09-30       6   7700.0       108.0             10  \n",
      "12  515.124.4469  1998-03-07       6   7800.0       108.0             10  \n",
      "13  515.124.4567  1999-12-07       6   6900.0       108.0             10  \n",
      "14  515.127.4561  1994-12-07      14  11000.0       100.0              3  \n",
      "15  515.127.4562  1995-05-18      13   3100.0       114.0              3  \n",
      "16  515.127.4563  1997-12-24      13   2900.0       114.0              3  \n",
      "17  515.127.4564  1997-07-24      13   2800.0       114.0              3  \n",
      "18  515.127.4565  1998-11-15      13   2600.0       114.0              3  \n",
      "19  515.127.4566  1999-08-10      13   2500.0       114.0              3  \n",
      "20  650.123.1234  1996-07-18      19   8000.0       100.0              5  \n",
      "21  650.123.2234  1997-04-10      19   8200.0       100.0              5  \n",
      "22  650.123.3234  1995-05-01      19   7900.0       100.0              5  \n",
      "23  650.123.4234  1997-10-10      19   6500.0       100.0              5  \n",
      "24  650.124.1224  1998-09-28      18   2700.0       120.0              5  \n",
      "25          None  1996-10-01      15  14000.0       100.0              8  \n",
      "26          None  1997-01-05      15  13500.0       100.0              8  \n",
      "27          None  1998-03-24      16   8600.0       100.0              8  \n",
      "28          None  1998-04-23      16   8400.0       100.0              8  \n",
      "29          None  1999-05-24      16   7000.0       100.0              8  \n",
      "30          None  2000-01-04      16   6200.0       100.0              8  \n",
      "31  650.501.1876  1996-02-04      17   4000.0       123.0              5  \n",
      "32  650.501.2876  1997-03-03      17   3900.0       123.0              5  \n",
      "33  515.123.4444  1987-09-17       3   4400.0       101.0              1  \n",
      "34  515.123.5555  1996-02-17      10  13000.0       100.0              2  \n",
      "35  603.123.6666  1997-08-17      11   6000.0       201.0              2  \n",
      "36  515.123.7777  1994-06-07       8   6500.0       101.0              4  \n",
      "37  515.123.8888  1994-06-07      12  10000.0       101.0              7  \n",
      "38  515.123.8080  1994-06-07       2  12000.0       101.0             11  \n",
      "39  515.123.8181  1994-06-07       1   8300.0       205.0             11  \n"
     ]
    }
   ],
   "source": [
    "df = pd.read_sql(\"select * from employees\", connection)\n",
    "\n",
    "print(df)"
   ]
  },
  {
   "cell_type": "code",
   "execution_count": 38,
   "metadata": {},
   "outputs": [
    {
     "name": "stdout",
     "output_type": "stream",
     "text": [
      "    dependent_id first_name   last_name relationship  employee_id\n",
      "0              1   Penelope       Gietz        Child          206\n",
      "1              2       Nick     Higgins        Child          205\n",
      "2              3         Ed      Whalen        Child          200\n",
      "3              4   Jennifer        King        Child          100\n",
      "4              5     Johnny     Kochhar        Child          101\n",
      "5              6      Bette     De Haan        Child          102\n",
      "6              7      Grace      Faviet        Child          109\n",
      "7              8    Matthew        Chen        Child          110\n",
      "8              9        Joe     Sciarra        Child          111\n",
      "9             10  Christian       Urman        Child          112\n",
      "10            11       Zero        Popp        Child          113\n",
      "11            12       Karl   Greenberg        Child          108\n",
      "12            13        Uma      Mavris        Child          203\n",
      "13            14     Vivien      Hunold        Child          103\n",
      "14            15       Cuba       Ernst        Child          104\n",
      "15            16       Fred      Austin        Child          105\n",
      "16            17      Helen   Pataballa        Child          106\n",
      "17            18        Dan     Lorentz        Child          107\n",
      "18            19        Bob   Hartstein        Child          201\n",
      "19            20    Lucille         Fay        Child          202\n",
      "20            21    Kirsten        Baer        Child          204\n",
      "21            22      Elvis        Khoo        Child          115\n",
      "22            23     Sandra       Baida        Child          116\n",
      "23            24    Cameron      Tobias        Child          117\n",
      "24            25      Kevin      Himuro        Child          118\n",
      "25            26        Rip  Colmenares        Child          119\n",
      "26            27      Julia    Raphaely        Child          114\n",
      "27            28      Woody     Russell        Child          145\n",
      "28            29       Alec    Partners        Child          146\n",
      "29            30     Sandra      Taylor        Child          176\n"
     ]
    }
   ],
   "source": [
    "df = pd.read_sql(\"select * from dependents\", connection)\n",
    "\n",
    "print(df)\n"
   ]
  }
 ],
 "metadata": {
  "kernelspec": {
   "display_name": "Python 3",
   "language": "python",
   "name": "python3"
  },
  "language_info": {
   "codemirror_mode": {
    "name": "ipython",
    "version": 3
   },
   "file_extension": ".py",
   "mimetype": "text/x-python",
   "name": "python",
   "nbconvert_exporter": "python",
   "pygments_lexer": "ipython3",
   "version": "3.10.7"
  }
 },
 "nbformat": 4,
 "nbformat_minor": 2
}
